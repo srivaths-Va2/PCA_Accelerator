{
 "cells": [
  {
   "cell_type": "code",
   "execution_count": 1,
   "id": "e50c2778",
   "metadata": {},
   "outputs": [],
   "source": [
    "import numpy as np\n",
    "from scipy.linalg import eigh\n",
    "import math"
   ]
  },
  {
   "cell_type": "code",
   "execution_count": 2,
   "id": "1a782bf6",
   "metadata": {},
   "outputs": [],
   "source": [
    "def find_pivot(Sprime):\n",
    "    n = Sprime.shape[0]\n",
    "    pivot_i = pivot_j = 0\n",
    "    pivot = 0.0\n",
    "\n",
    "    for j in range(1, n):\n",
    "        for i in range(j):\n",
    "            if abs(Sprime[i, j]) > pivot:\n",
    "                pivot_i = i\n",
    "                pivot_j = j\n",
    "                pivot = abs(Sprime[i, j])\n",
    "\n",
    "    return pivot_i, pivot_j, pivot"
   ]
  },
  {
   "cell_type": "code",
   "execution_count": 3,
   "id": "ed8bebcb",
   "metadata": {},
   "outputs": [],
   "source": [
    "def givens_rotation_matrix(n, i, j, theta):\n",
    "    G = np.eye(n)\n",
    "    G[i, i] = G[j, j] = math.cos(theta)\n",
    "    G[i, j] = math.sin(theta)\n",
    "    G[j, i] = -math.sin(theta)\n",
    "    return G"
   ]
  },
  {
   "cell_type": "code",
   "execution_count": 4,
   "id": "8244bff5",
   "metadata": {},
   "outputs": [],
   "source": [
    "# Parameters\n",
    "n = 4\n",
    "sqrtS = np.random.randn(n, n)\n",
    "S = sqrtS @ sqrtS.T  # Create a symmetric matrix"
   ]
  },
  {
   "cell_type": "code",
   "execution_count": 5,
   "id": "3f647a57",
   "metadata": {},
   "outputs": [],
   "source": [
    "# Tolerance\n",
    "tol = 1e-14"
   ]
  },
  {
   "cell_type": "code",
   "execution_count": 6,
   "id": "662f76aa",
   "metadata": {},
   "outputs": [],
   "source": [
    "# Initialize Sprime and U\n",
    "Sprime = S.copy()\n",
    "U = np.eye(n)"
   ]
  },
  {
   "cell_type": "code",
   "execution_count": 7,
   "id": "89908b51",
   "metadata": {},
   "outputs": [],
   "source": [
    "# Jacobi method loop\n",
    "while True:\n",
    "    pivot_i, pivot_j, pivot = find_pivot(Sprime)\n",
    "\n",
    "    if pivot < tol:\n",
    "        break\n",
    "\n",
    "    theta = math.atan(2 * Sprime[pivot_i, pivot_j] / (Sprime[pivot_j, pivot_j] - Sprime[pivot_i, pivot_i])) / 2\n",
    "    G = givens_rotation_matrix(n, pivot_i, pivot_j, theta)\n",
    "\n",
    "    # Update Sprime and U\n",
    "    Sprime = G.T @ Sprime @ G\n",
    "    U = U @ G"
   ]
  },
  {
   "cell_type": "code",
   "execution_count": 8,
   "id": "21f59b85",
   "metadata": {},
   "outputs": [
    {
     "name": "stdout",
     "output_type": "stream",
     "text": [
      "[2.71252074 0.0480282  2.13565791 0.89231861]\n"
     ]
    }
   ],
   "source": [
    "# Extract eigenvalues\n",
    "lambdas = np.diag(Sprime)\n",
    "print(lambdas)"
   ]
  },
  {
   "cell_type": "code",
   "execution_count": 9,
   "id": "a7809249",
   "metadata": {},
   "outputs": [],
   "source": [
    "# Sort eigenvalues and eigenvectors\n",
    "sorted_indices = np.argsort(lambdas)\n",
    "lambdas = lambdas[sorted_indices]\n",
    "U = U[:, sorted_indices]"
   ]
  },
  {
   "cell_type": "code",
   "execution_count": 10,
   "id": "b3b7892b",
   "metadata": {},
   "outputs": [
    {
     "name": "stdout",
     "output_type": "stream",
     "text": [
      "S ≈ U * diag(lambdas) * U.T: True\n"
     ]
    }
   ],
   "source": [
    "# Verify that S ≈ U * diag(lambdas) * U.T\n",
    "S_approx = U @ np.diag(lambdas) @ U.T\n",
    "print(\"S ≈ U * diag(lambdas) * U.T:\", np.allclose(S, S_approx))"
   ]
  },
  {
   "cell_type": "code",
   "execution_count": null,
   "id": "fb433df0",
   "metadata": {},
   "outputs": [],
   "source": []
  }
 ],
 "metadata": {
  "kernelspec": {
   "display_name": "Python 3 (ipykernel)",
   "language": "python",
   "name": "python3"
  },
  "language_info": {
   "codemirror_mode": {
    "name": "ipython",
    "version": 3
   },
   "file_extension": ".py",
   "mimetype": "text/x-python",
   "name": "python",
   "nbconvert_exporter": "python",
   "pygments_lexer": "ipython3",
   "version": "3.11.5"
  }
 },
 "nbformat": 4,
 "nbformat_minor": 5
}
