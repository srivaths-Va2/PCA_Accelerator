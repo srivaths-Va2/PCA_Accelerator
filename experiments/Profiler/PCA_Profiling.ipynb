{
  "nbformat": 4,
  "nbformat_minor": 0,
  "metadata": {
    "colab": {
      "provenance": [],
      "gpuType": "T4"
    },
    "kernelspec": {
      "name": "python3",
      "display_name": "Python 3"
    },
    "language_info": {
      "name": "python"
    },
    "accelerator": "GPU"
  },
  "cells": [
    {
      "cell_type": "code",
      "execution_count": 6,
      "metadata": {
        "id": "3SlePegoAfRc"
      },
      "outputs": [],
      "source": [
        "import torch\n",
        "from torch.profiler import profile, record_function, ProfilerActivity"
      ]
    },
    {
      "cell_type": "code",
      "source": [
        "# Dummy data for PCA\n",
        "data = torch.rand(1000, 500, device=\"cuda\")  # Example: 1000 samples, 500 features"
      ],
      "metadata": {
        "id": "hmx401YRAkhS"
      },
      "execution_count": 7,
      "outputs": []
    },
    {
      "cell_type": "code",
      "source": [
        "# Profiling PCA with eigenvalue decomposition\n",
        "with profile(\n",
        "    activities=[ProfilerActivity.CPU, ProfilerActivity.CUDA],\n",
        "    on_trace_ready=torch.profiler.tensorboard_trace_handler('./log'),  # Save trace\n",
        "    record_shapes=True,\n",
        "    with_stack=True\n",
        ") as prof:\n",
        "    with record_function(\"PCA using Eigenvalue Decomposition\"):\n",
        "        # Step 1: Mean subtraction\n",
        "        mean = torch.mean(data, dim=0)\n",
        "        centered_data = data - mean\n",
        "\n",
        "        # Step 2: Compute the covariance matrix\n",
        "        covariance_matrix = torch.mm(centered_data.T, centered_data) / (data.size(0) - 1)\n",
        "\n",
        "        # Step 3: Eigen decomposition of the covariance matrix\n",
        "        eigenvalues, eigenvectors = torch.linalg.eigh(covariance_matrix)\n",
        "\n",
        "        # Step 4: Sort eigenvalues and eigenvectors in descending order\n",
        "        sorted_indices = torch.argsort(eigenvalues, descending=True)\n",
        "        eigenvalues = eigenvalues[sorted_indices]\n",
        "        eigenvectors = eigenvectors[:, sorted_indices]\n",
        "\n",
        "        # Step 5: Transform the data using top-k principal components (eigenvectors)\n",
        "        k = 10  # Example: Reduce to 10 components\n",
        "        principal_components = eigenvectors[:, :k]\n",
        "        reduced_data = torch.mm(centered_data, principal_components)\n"
      ],
      "metadata": {
        "id": "aeLQkcABAtv8"
      },
      "execution_count": 8,
      "outputs": []
    },
    {
      "cell_type": "code",
      "source": [
        "# Print profiling results\n",
        "print(prof.key_averages().table(sort_by=\"cuda_time_total\", row_limit=10))"
      ],
      "metadata": {
        "colab": {
          "base_uri": "https://localhost:8080/"
        },
        "id": "lS7yPsjsBB-X",
        "outputId": "1baa281e-b438-4154-cca2-ffb79cac3add"
      },
      "execution_count": 9,
      "outputs": [
        {
          "output_type": "stream",
          "name": "stdout",
          "text": [
            "-------------------------------------------------------  ------------  ------------  ------------  ------------  ------------  ------------  ------------  ------------  ------------  ------------  \n",
            "                                                   Name    Self CPU %      Self CPU   CPU total %     CPU total  CPU time avg     Self CUDA   Self CUDA %    CUDA total  CUDA time avg    # of Calls  \n",
            "-------------------------------------------------------  ------------  ------------  ------------  ------------  ------------  ------------  ------------  ------------  ------------  ------------  \n",
            "                     PCA using Eigenvalue Decomposition         0.00%       0.000us         0.00%       0.000us       0.000us     182.375ms       404.22%     182.375ms     182.375ms             1  \n",
            "                     PCA using Eigenvalue Decomposition         0.73%       1.368ms        99.99%     186.140ms     186.140ms       0.000us         0.00%      45.118ms      45.118ms             1  \n",
            "                                      aten::linalg_eigh         0.09%     161.133us        31.18%      58.039ms      58.039ms       0.000us         0.00%      44.687ms      44.687ms             1  \n",
            "                                     aten::_linalg_eigh         1.66%       3.095ms        31.09%      57.878ms      57.878ms      44.650ms        98.96%      44.687ms      44.687ms             1  \n",
            "void syevbj_batch_32x16<float, float>(int, int const...         0.00%       0.000us         0.00%       0.000us       0.000us      18.756ms        41.57%      18.756ms      67.227us           279  \n",
            "void column_rotate_batch_32x16<float, 5, 3>(int, int...         0.00%       0.000us         0.00%       0.000us       0.000us      10.623ms        23.54%      10.623ms      38.074us           279  \n",
            "void row_rotate_batch_32x16_phase1<float>(int, int c...         0.00%       0.000us         0.00%       0.000us       0.000us      10.559ms        23.40%      10.559ms      37.847us           279  \n",
            "void row_rotate_batch_32x32_phase2<float>(int, int c...         0.00%       0.000us         0.00%       0.000us       0.000us       4.371ms         9.69%       4.371ms      15.666us           279  \n",
            "                                               aten::mm         0.11%     210.659us         0.20%     367.264us     183.632us     251.801us         0.56%     251.801us     125.900us             2  \n",
            "                                  volta_sgemm_128x64_nt         0.00%       0.000us         0.00%       0.000us       0.000us     212.571us         0.47%     212.571us     212.571us             1  \n",
            "-------------------------------------------------------  ------------  ------------  ------------  ------------  ------------  ------------  ------------  ------------  ------------  ------------  \n",
            "Self CPU time total: 186.161ms\n",
            "Self CUDA time total: 45.118ms\n",
            "\n"
          ]
        }
      ]
    },
    {
      "cell_type": "code",
      "source": [
        "# Profiling PCA with SVD\n",
        "with profile(\n",
        "    activities=[ProfilerActivity.CPU, ProfilerActivity.CUDA],\n",
        "    on_trace_ready=torch.profiler.tensorboard_trace_handler('./log'),  # Save trace\n",
        "    record_shapes=True,\n",
        "    with_stack=True\n",
        ") as prof:\n",
        "    with record_function(\"PCA\"):\n",
        "        # Step 1: Mean subtraction\n",
        "        mean = torch.mean(data, dim=0)\n",
        "        centered_data = data - mean\n",
        "\n",
        "        # Step 2: Covariance matrix computation\n",
        "        covariance_matrix = torch.mm(centered_data.T, centered_data) / (data.size(0) - 1)\n",
        "\n",
        "        # Step 3: Eigen decomposition (or SVD for stability)\n",
        "        U, S, V = torch.svd(covariance_matrix)\n",
        "\n",
        "        # Step 4: Transform data (optional)\n",
        "        reduced_data = torch.mm(centered_data, U[:, :10])  # Example: Reduce to 10 components\n",
        "\n",
        "# Print profiling results\n",
        "print(prof.key_averages().table(sort_by=\"cuda_time_total\", row_limit=10))"
      ],
      "metadata": {
        "colab": {
          "base_uri": "https://localhost:8080/"
        },
        "id": "HUaYhxOWBa3j",
        "outputId": "09142900-e98b-4905-b11b-f32735a92b47"
      },
      "execution_count": 10,
      "outputs": [
        {
          "output_type": "stream",
          "name": "stdout",
          "text": [
            "-------------------------------------------------------  ------------  ------------  ------------  ------------  ------------  ------------  ------------  ------------  ------------  ------------  \n",
            "                                                   Name    Self CPU %      Self CPU   CPU total %     CPU total  CPU time avg     Self CUDA   Self CUDA %    CUDA total  CUDA time avg    # of Calls  \n",
            "-------------------------------------------------------  ------------  ------------  ------------  ------------  ------------  ------------  ------------  ------------  ------------  ------------  \n",
            "                                                    PCA         0.00%       0.000us         0.00%       0.000us       0.000us      69.980ms       105.70%      69.980ms      69.980ms             1  \n",
            "                                                    PCA         3.43%       2.590ms        99.98%      75.590ms      75.590ms       0.000us         0.00%      66.205ms      66.205ms             1  \n",
            "                                              aten::svd         0.02%      18.327us        91.56%      69.223ms      69.223ms       0.000us         0.00%      65.854ms      65.854ms             1  \n",
            "                                       aten::linalg_svd         0.01%       7.556us        91.50%      69.181ms      69.181ms       0.000us         0.00%      65.854ms      65.854ms             1  \n",
            "                                      aten::_linalg_svd         1.93%       1.457ms        91.49%      69.173ms      69.173ms      65.815ms        99.41%      65.854ms      65.854ms             1  \n",
            "void gesvdbj_batch_32x16<float, float>(int, int cons...         0.00%       0.000us         0.00%       0.000us       0.000us      33.956ms        51.29%      33.956ms     109.534us           310  \n",
            "void svd_column_rotate_batch_32x16<float, 5, 3>(int,...         0.00%       0.000us         0.00%       0.000us       0.000us      20.441ms        30.87%      20.441ms      32.969us           620  \n",
            "void svd_row_rotate_batch_32x16<float>(int, int cons...         0.00%       0.000us         0.00%       0.000us       0.000us      11.032ms        16.66%      11.032ms      35.587us           310  \n",
            "                                               aten::mm         0.27%     205.310us         0.40%     302.817us     151.409us     255.642us         0.39%     255.642us     127.821us             2  \n",
            "                                  volta_sgemm_128x64_nt         0.00%       0.000us         0.00%       0.000us       0.000us     212.891us         0.32%     212.891us     212.891us             1  \n",
            "-------------------------------------------------------  ------------  ------------  ------------  ------------  ------------  ------------  ------------  ------------  ------------  ------------  \n",
            "Self CPU time total: 75.604ms\n",
            "Self CUDA time total: 66.205ms\n",
            "\n"
          ]
        }
      ]
    },
    {
      "cell_type": "code",
      "source": [],
      "metadata": {
        "id": "Pe9sGoxPFvap"
      },
      "execution_count": null,
      "outputs": []
    }
  ]
}